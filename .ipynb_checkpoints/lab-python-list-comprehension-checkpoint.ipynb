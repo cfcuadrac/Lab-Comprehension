{
 "cells": [
  {
   "cell_type": "markdown",
   "id": "25d7736c-ba17-4aff-b6bb-66eba20fbf4e",
   "metadata": {},
   "source": [
    "# Lab | List, Dict and Set Comprehension"
   ]
  },
  {
   "cell_type": "markdown",
   "id": "7dd3cbde-675a-4b81-92c3-f728846dbe06",
   "metadata": {},
   "source": [
    "## Exercise: Managing Customer Orders Optimized with Comprehension"
   ]
  },
  {
   "cell_type": "markdown",
   "id": "5d500160-2fb7-4777-b5e4-09d45ebaf328",
   "metadata": {},
   "source": [
    "In the previous exercise, you developed a program to manage customer orders and inventory. Now, let's take it a step further and incorporate comprehension into your code.\n",
    "\n",
    "Follow the steps below to complete the exercise:\n",
    "\n",
    "1. Review your code from the previous exercise and identify areas where you can apply comprehension to simplify and streamline your code. \n",
    "\n",
    "    - *Hint: Apply it to initialize inventory, updating the inventory and printing the updated inventory.*\n",
    "    \n",
    "    - For example, in initializing the inventory, we could have:\n",
    "    \n",
    "        ```python\n",
    "        def initialize_inventory(products):\n",
    "            inventory = {product: int(input(f\"Enter the quantity of {product}s available: \")) for product in products}\n",
    "            return inventory\n",
    "\n",
    "        ```\n",
    "<br>\n",
    "    \n",
    "    \n",
    "2. Modify the function get_customer_orders so it prompts the user to enter the number of customer orders and gathers the product names using a loop and user input. Use comprehension.\n",
    "\n",
    "3. Add a new function to calculate the total price of the customer order. For each product in customer_orders, prompt the user to enter the price of that product. Use comprehension to calculate the total price. Note: assume that the user can only have 1 unit of each product.\n",
    "\n",
    "4. Modify the update_inventory function to remove the product from the inventory if its quantity becomes zero after fulfilling the customer orders. Use comprehension to filter out the products with a quantity of zero from the inventory.\n",
    "\n",
    "5. Print the total price of the customer order.\n",
    "\n",
    "Your code should produce output similar to the following:\n",
    "\n",
    "```python\n",
    "Enter the quantity of t-shirts available:  5\n",
    "Enter the quantity of mugs available:  4\n",
    "Enter the quantity of hats available:  3\n",
    "Enter the quantity of books available:  2\n",
    "Enter the quantity of keychains available:  1\n",
    "Enter the number of customer orders:  2\n",
    "Enter the name of a product that a customer wants to order:  hat\n",
    "Enter the name of a product that a customer wants to order:  keychain\n",
    "\n",
    "Order Statistics:\n",
    "Total Products Ordered: 2\n",
    "Percentage of Unique Products Ordered: 40.0\n",
    "\n",
    "Updated Inventory:\n",
    "t-shirt: 5\n",
    "mug: 4\n",
    "hat: 2\n",
    "book: 2\n",
    "Enter the price of keychain:  5\n",
    "Enter the price of hat:  10\n",
    "Total Price: 15.0\n",
    "\n",
    "```\n"
   ]
  },
  {
   "cell_type": "code",
   "execution_count": 1,
   "id": "25879fed-b57c-4a6e-9f75-150a45eb2b6a",
   "metadata": {},
   "outputs": [],
   "source": [
    "products = [\"tshirts\", \"mugs\", \"hats\", \"books\", \"keychains\"]"
   ]
  },
  {
   "cell_type": "code",
   "execution_count": 2,
   "id": "ca8de931-06b1-4f99-9a46-a35f92915379",
   "metadata": {},
   "outputs": [],
   "source": [
    "def initialize_inventory(products):\n",
    "    inventory = {item: int(input(f\"Enter the quantity of {item} available: \")) for item in products}\n",
    "    return inventory"
   ]
  },
  {
   "cell_type": "code",
   "execution_count": 3,
   "id": "ee342bd5-ecd7-4838-ab88-b854deffc870",
   "metadata": {},
   "outputs": [
    {
     "name": "stdin",
     "output_type": "stream",
     "text": [
      "Enter the quantity of tshirts available:  5\n",
      "Enter the quantity of mugs available:  4\n",
      "Enter the quantity of hats available:  6\n",
      "Enter the quantity of books available:  7\n",
      "Enter the quantity of keychains available:  4\n"
     ]
    }
   ],
   "source": [
    "inventory = initialize_inventory(products)"
   ]
  },
  {
   "cell_type": "code",
   "execution_count": 4,
   "id": "f5baea52-e1ca-445d-95fd-54380106cacc",
   "metadata": {},
   "outputs": [
    {
     "name": "stdin",
     "output_type": "stream",
     "text": [
      "Enter the quantity of tshirts available:  5\n",
      "Enter the quantity of mugs available:  6\n",
      "Enter the quantity of hats available:  4\n",
      "Enter the quantity of books available:  6\n",
      "Enter the quantity of keychains available:  5\n"
     ]
    },
    {
     "data": {
      "text/plain": [
       "{'tshirts': 5, 'mugs': 6, 'hats': 4, 'books': 6, 'keychains': 5}"
      ]
     },
     "execution_count": 4,
     "metadata": {},
     "output_type": "execute_result"
    }
   ],
   "source": [
    "initialize_inventory(products)"
   ]
  },
  {
   "cell_type": "code",
   "execution_count": 5,
   "id": "bb993470-fc29-43da-b2e5-a413f92e42b1",
   "metadata": {},
   "outputs": [
    {
     "data": {
      "text/plain": [
       "{'tshirts': 5, 'mugs': 4, 'hats': 6, 'books': 7, 'keychains': 4}"
      ]
     },
     "execution_count": 5,
     "metadata": {},
     "output_type": "execute_result"
    }
   ],
   "source": [
    "inventory"
   ]
  },
  {
   "cell_type": "code",
   "execution_count": 6,
   "id": "5b1356c4-89bd-428e-af42-7a0702bd1665",
   "metadata": {},
   "outputs": [],
   "source": [
    " def get_customer_order():\n",
    "     customer_order = set((input(f\"Enter the name of the {product}: \") for product in [\"Product#1\", \"Product#2\", \"Product#3\"]))\n",
    "     return customer_order"
   ]
  },
  {
   "cell_type": "code",
   "execution_count": 7,
   "id": "98fe21f9-6950-401a-abbc-f4a7fc9d6e84",
   "metadata": {},
   "outputs": [
    {
     "name": "stdin",
     "output_type": "stream",
     "text": [
      "Enter the name of the Product#1:  mugs\n",
      "Enter the name of the Product#2:  hats\n",
      "Enter the name of the Product#3:  books\n"
     ]
    }
   ],
   "source": [
    "customer_order = get_customer_order()"
   ]
  },
  {
   "cell_type": "code",
   "execution_count": 8,
   "id": "ccc7e782-3aec-4ecc-8dbd-512899bdbbff",
   "metadata": {},
   "outputs": [],
   "source": [
    "def calculating_price():\n",
    "    total_price = (int(input(f\"Enter the price of the {product}\")) for product in customer_order)\n",
    "    return sum(total_price)"
   ]
  },
  {
   "cell_type": "code",
   "execution_count": 9,
   "id": "91573173-77ac-4431-8974-cf1ce1679d78",
   "metadata": {},
   "outputs": [
    {
     "name": "stdin",
     "output_type": "stream",
     "text": [
      "Enter the price of the mugs 10\n",
      "Enter the price of the hats 11\n",
      "Enter the price of the books 12\n"
     ]
    }
   ],
   "source": [
    "total_price = calculating_price()"
   ]
  },
  {
   "cell_type": "code",
   "execution_count": 10,
   "id": "0267eeb3-7c38-4e64-bddb-bf7cb51320dd",
   "metadata": {},
   "outputs": [
    {
     "data": {
      "text/plain": [
       "33"
      ]
     },
     "execution_count": 10,
     "metadata": {},
     "output_type": "execute_result"
    }
   ],
   "source": [
    "total_price"
   ]
  },
  {
   "cell_type": "code",
   "execution_count": 11,
   "id": "b52bce5a-9ee4-4b55-8295-88ab5b077a1c",
   "metadata": {},
   "outputs": [
    {
     "data": {
      "text/plain": [
       "{'tshirts': 5, 'mugs': 4, 'hats': 6, 'books': 7, 'keychains': 4}"
      ]
     },
     "execution_count": 11,
     "metadata": {},
     "output_type": "execute_result"
    }
   ],
   "source": [
    "inventory"
   ]
  },
  {
   "cell_type": "code",
   "execution_count": 24,
   "id": "82a4ac5f-b89b-4a9a-a26a-9cb452070012",
   "metadata": {},
   "outputs": [],
   "source": [
    "def update_inventory(customer_order, inventory):\n",
    "    for item in customer_order:\n",
    "        inventory[item] -= 1\n",
    "    if item in inventory == 0:\n",
    "        inventory.remove(item)\n",
    "    return inventory"
   ]
  },
  {
   "cell_type": "code",
   "execution_count": 25,
   "id": "92d28b13-39bc-4f62-bb19-73e87662fda8",
   "metadata": {},
   "outputs": [
    {
     "data": {
      "text/plain": [
       "{'tshirts': 5, 'mugs': 2, 'hats': 4, 'books': 5, 'keychains': 4}"
      ]
     },
     "execution_count": 25,
     "metadata": {},
     "output_type": "execute_result"
    }
   ],
   "source": [
    "update_inventory(customer_order, inventory)"
   ]
  },
  {
   "cell_type": "code",
   "execution_count": 26,
   "id": "ccd3dd27-4d3f-41d8-b02c-30c19dbfdfce",
   "metadata": {},
   "outputs": [
    {
     "data": {
      "text/plain": [
       "{'tshirts': 5, 'mugs': 2, 'hats': 4, 'books': 5, 'keychains': 4}"
      ]
     },
     "execution_count": 26,
     "metadata": {},
     "output_type": "execute_result"
    }
   ],
   "source": [
    "inventory"
   ]
  },
  {
   "cell_type": "code",
   "execution_count": 15,
   "id": "0ca3c41c-9437-4d9b-801f-4271283f8d7c",
   "metadata": {},
   "outputs": [],
   "source": [
    "def calculate_order_statistics(customer_order, inventory):\n",
    "    total_available_products = sum(inventory.values())\n",
    "    total_products_ordered = len(customer_order)\n",
    "    percentage_ordered = (total_products_ordered / total_available_products)*100\n",
    "    return percentage_ordered, total_products_ordered"
   ]
  },
  {
   "cell_type": "code",
   "execution_count": 16,
   "id": "c58935ca-1b34-4cfc-aa0a-ad5ac93a22b7",
   "metadata": {
    "scrolled": true
   },
   "outputs": [],
   "source": [
    "percentage_ordered, total_products_ordered = calculate_order_statistics(customer_order, inventory)"
   ]
  },
  {
   "cell_type": "code",
   "execution_count": 17,
   "id": "8719ed60-b63e-496a-858f-976476898cec",
   "metadata": {},
   "outputs": [
    {
     "data": {
      "text/plain": [
       "(13.043478260869565, 3)"
      ]
     },
     "execution_count": 17,
     "metadata": {},
     "output_type": "execute_result"
    }
   ],
   "source": [
    "calculate_order_statistics(customer_order, inventory)"
   ]
  },
  {
   "cell_type": "code",
   "execution_count": 18,
   "id": "1583daec-0e0a-4413-99ad-2f78747a01e2",
   "metadata": {},
   "outputs": [],
   "source": [
    "def print_order_statistics(percentage_ordered, total_products_ordered):\n",
    "    print(\"Total Products Ordered: \", total_products_ordered)\n",
    "    print(\"Percentage of Products Ordered:\", percentage_ordered,\"%\")\n",
    "    return percentage_ordered, total_products_ordered"
   ]
  },
  {
   "cell_type": "code",
   "execution_count": 19,
   "id": "7c4801ad-7e87-4be8-8af4-986957acdb09",
   "metadata": {},
   "outputs": [
    {
     "name": "stdout",
     "output_type": "stream",
     "text": [
      "Total Products Ordered:  3\n",
      "Percentage of Products Ordered: 13.043478260869565 %\n"
     ]
    },
    {
     "data": {
      "text/plain": [
       "(13.043478260869565, 3)"
      ]
     },
     "execution_count": 19,
     "metadata": {},
     "output_type": "execute_result"
    }
   ],
   "source": [
    "print_order_statistics(percentage_ordered, total_products_ordered)"
   ]
  },
  {
   "cell_type": "code",
   "execution_count": 20,
   "id": "42c9decf-ae2a-4ee4-a552-391146a0d73f",
   "metadata": {},
   "outputs": [],
   "source": [
    "def print_updated_inventory(inventory):\n",
    "    print(f\"This is the current updated inventory {inventory}\")"
   ]
  },
  {
   "cell_type": "code",
   "execution_count": 21,
   "id": "952e74ef-8b6f-453b-86d6-c26522d0e41f",
   "metadata": {},
   "outputs": [
    {
     "name": "stdout",
     "output_type": "stream",
     "text": [
      "This is the current updated inventory {'tshirts': 5, 'mugs': 3, 'hats': 5, 'books': 6, 'keychains': 4}\n"
     ]
    }
   ],
   "source": [
    "print_updated_inventory(inventory)"
   ]
  },
  {
   "cell_type": "code",
   "execution_count": null,
   "id": "2e928ab7-5bf3-4d8b-885e-4d454548aab9",
   "metadata": {},
   "outputs": [],
   "source": []
  }
 ],
 "metadata": {
  "kernelspec": {
   "display_name": "Python 3 (ipykernel)",
   "language": "python",
   "name": "python3"
  },
  "language_info": {
   "codemirror_mode": {
    "name": "ipython",
    "version": 3
   },
   "file_extension": ".py",
   "mimetype": "text/x-python",
   "name": "python",
   "nbconvert_exporter": "python",
   "pygments_lexer": "ipython3",
   "version": "3.13.5"
  }
 },
 "nbformat": 4,
 "nbformat_minor": 5
}
